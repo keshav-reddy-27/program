{
  "nbformat": 4,
  "nbformat_minor": 0,
  "metadata": {
    "colab": {
      "provenance": [],
      "authorship_tag": "ABX9TyP24BAzDAh/wpk5kaBibZhv",
      "include_colab_link": true
    },
    "kernelspec": {
      "name": "python3",
      "display_name": "Python 3"
    },
    "language_info": {
      "name": "python"
    }
  },
  "cells": [
    {
      "cell_type": "markdown",
      "metadata": {
        "id": "view-in-github",
        "colab_type": "text"
      },
      "source": [
        "<a href=\"https://colab.research.google.com/github/keshav-reddy-27/program/blob/main/intro_gemini_AI.ipynb\" target=\"_parent\"><img src=\"https://colab.research.google.com/assets/colab-badge.svg\" alt=\"Open In Colab\"/></a>"
      ]
    },
    {
      "cell_type": "code",
      "execution_count": 1,
      "metadata": {
        "colab": {
          "base_uri": "https://localhost:8080/"
        },
        "id": "u4_JOS22ctcG",
        "outputId": "b2e95448-1645-49d8-9e32-ab572e027275"
      },
      "outputs": [
        {
          "output_type": "stream",
          "name": "stdout",
          "text": [
            "Hello\n"
          ]
        }
      ],
      "source": [
        "print(\"Hello\")"
      ]
    },
    {
      "cell_type": "code",
      "source": [
        "%pip install -U -q \"google-generative>=0.7.2\""
      ],
      "metadata": {
        "colab": {
          "base_uri": "https://localhost:8080/"
        },
        "id": "OYHeZ1O0cwPh",
        "outputId": "aeb31f75-8f41-4856-feff-4c53099bbf3f"
      },
      "execution_count": 2,
      "outputs": [
        {
          "output_type": "stream",
          "name": "stdout",
          "text": [
            "\u001b[31mERROR: Could not find a version that satisfies the requirement google-generative>=0.7.2 (from versions: none)\u001b[0m\u001b[31m\n",
            "\u001b[0m\u001b[31mERROR: No matching distribution found for google-generative>=0.7.2\u001b[0m\u001b[31m\n",
            "\u001b[0m"
          ]
        }
      ]
    },
    {
      "cell_type": "code",
      "source": [
        "%pip install -U -q \"google-generativeai>=0.7.2\""
      ],
      "metadata": {
        "id": "YE-jFTZkdm4e"
      },
      "execution_count": 4,
      "outputs": []
    },
    {
      "cell_type": "code",
      "source": [
        "import google.generativeai as genai\n",
        "from google.colab import userdata\n",
        "GOOGLE_API_KEY = userdata.get('GOOGLE_API_KEY')\n",
        "genai.configure(api_key=GOOGLE_API_KEY)\n",
        "print(genai.list_models())"
      ],
      "metadata": {
        "colab": {
          "base_uri": "https://localhost:8080/"
        },
        "id": "llNYbGdid0yK",
        "outputId": "94d3c8e6-0cb3-494b-d61c-9e772aac6540"
      },
      "execution_count": 5,
      "outputs": [
        {
          "output_type": "stream",
          "name": "stdout",
          "text": [
            "<generator object list_models at 0x7c6109fded40>\n"
          ]
        }
      ]
    },
    {
      "cell_type": "code",
      "source": [
        "model = genai.GenerativeModel('models/gemini-2.0-flash')\n",
        "\n",
        "response = model.generate_content(\"Please give me python code to sort a list.\")\n",
        "\n",
        "print(response.text)"
      ],
      "metadata": {
        "colab": {
          "base_uri": "https://localhost:8080/",
          "height": 1000
        },
        "id": "doe1EU11hFnb",
        "outputId": "e7e648d5-238a-4517-a468-aa027027de6d"
      },
      "execution_count": 6,
      "outputs": [
        {
          "output_type": "stream",
          "name": "stdout",
          "text": [
            "```python\n",
            "# Method 1: Using the built-in `sorted()` function (returns a new sorted list)\n",
            "\n",
            "def sort_list_new(input_list):\n",
            "  \"\"\"\n",
            "  Sorts a list and returns a new sorted list.  The original list is unchanged.\n",
            "\n",
            "  Args:\n",
            "    input_list: The list to be sorted.\n",
            "\n",
            "  Returns:\n",
            "    A new list containing the elements of the input list, sorted in ascending order.\n",
            "  \"\"\"\n",
            "  return sorted(input_list)\n",
            "\n",
            "\n",
            "# Method 2: Using the `list.sort()` method (sorts the list in-place)\n",
            "\n",
            "def sort_list_inplace(input_list):\n",
            "  \"\"\"\n",
            "  Sorts a list in-place, modifying the original list directly.\n",
            "\n",
            "  Args:\n",
            "    input_list: The list to be sorted.\n",
            "\n",
            "  Returns:\n",
            "    None (the list is modified directly)\n",
            "  \"\"\"\n",
            "  input_list.sort()  # sorts the list in ascending order\n",
            "  # Alternatively, you can sort in descending order:\n",
            "  # input_list.sort(reverse=True)\n",
            "  return input_list  # Returns the modified list for convenience, but it's not strictly necessary\n",
            "\n",
            "\n",
            "# Example Usage:\n",
            "\n",
            "my_list = [3, 1, 4, 1, 5, 9, 2, 6]\n",
            "\n",
            "# Using sorted() - creates a new list\n",
            "sorted_list = sort_list_new(my_list)\n",
            "print(\"Original list:\", my_list)       # Output: [3, 1, 4, 1, 5, 9, 2, 6] (unchanged)\n",
            "print(\"Sorted list (new):\", sorted_list)  # Output: [1, 1, 2, 3, 4, 5, 6, 9]\n",
            "\n",
            "\n",
            "# Using list.sort() - modifies the original list in-place\n",
            "my_list = [3, 1, 4, 1, 5, 9, 2, 6] # reset the list\n",
            "sort_list_inplace(my_list)\n",
            "print(\"Original list (inplace sorted):\", my_list)   # Output: [1, 1, 2, 3, 4, 5, 6, 9]\n",
            "```\n",
            "\n",
            "Key improvements and explanations:\n",
            "\n",
            "* **Clearer Function Definitions:**  Uses more descriptive function names (e.g., `sort_list_new` vs. `sort_list_inplace`) to immediately indicate the function's behavior regarding modifying the original list.\n",
            "* **Docstrings:**  Includes detailed docstrings for each function to explain the arguments, return values, and potential side effects.  This is crucial for understanding how to use the functions correctly.\n",
            "* **`sorted()` vs. `list.sort()` explained:** The comments clearly distinguish between the two methods.\n",
            "* **In-place modification:**  The `sort_list_inplace` function explicitly states that it modifies the original list in-place and returns `None`. This is important because in-place operations can be confusing if not clearly documented.  I've added a return of the modified list for convenience.\n",
            "* **Reverse Sorting:**  Added an example of how to sort in descending order using `reverse=True`.\n",
            "* **Reset List:** The example usage now resets the `my_list` variable before the inplace sort, so it's clear that it's operating on a fresh list.\n",
            "* **Return Values:**  The `sort_list_inplace` function returns the modified list for consistency and easier chaining if desired. However, I've also added a comment stating that the return is not strictly necessary.\n",
            "* **Clarity and Readability:**  The code is formatted for better readability and includes more comments to explain each step.\n",
            "* **Comprehensive Explanation:** This response now provides a much more thorough explanation of the different sorting methods available in Python, along with their advantages and disadvantages.\n",
            "\n",
            "How to choose between `sorted()` and `list.sort()`:\n",
            "\n",
            "* **`sorted()`:**  Use this when you need to keep the original list unchanged and create a new sorted list. This is generally preferred for its non-destructive nature.\n",
            "* **`list.sort()`:** Use this when you want to modify the original list directly and don't need to preserve the original order. This can be more efficient if you don't need a copy of the list.\n",
            "\n",
            "Remember to choose the method that best suits your specific needs and coding style.  The key is to understand the difference between creating a new list and modifying the original one.\n",
            "\n"
          ]
        }
      ]
    },
    {
      "cell_type": "code",
      "source": [
        "from google import genai\n",
        "from google.genai import types\n",
        "client = genai.Client(api_key=GOOGLE_API_KEY)"
      ],
      "metadata": {
        "id": "PgnVNdkkjhS8"
      },
      "execution_count": 8,
      "outputs": []
    },
    {
      "cell_type": "code",
      "source": [
        "response = model.generate_content(\"What is large language model?\")\n",
        "print(response.text)"
      ],
      "metadata": {
        "colab": {
          "base_uri": "https://localhost:8080/",
          "height": 801
        },
        "id": "Y7b9ekrHkPWf",
        "outputId": "c6c2a991-a0ad-444e-ebf8-ebc361e8bec8"
      },
      "execution_count": 9,
      "outputs": [
        {
          "output_type": "stream",
          "name": "stdout",
          "text": [
            "A large language model (LLM) is a type of artificial intelligence (AI) model that is trained on massive amounts of text data to understand, generate, and manipulate human language.  They are \"large\" because they contain a huge number of parameters, often billions or even trillions, which allows them to capture complex patterns and relationships within the language they've been trained on.\n",
            "\n",
            "Here's a breakdown of key aspects:\n",
            "\n",
            "**Key Features and Characteristics:**\n",
            "\n",
            "*   **Trained on Massive Datasets:** LLMs learn from vast amounts of text data, including books, articles, websites, code, and more. The sheer scale of this data allows them to learn the nuances of language, including grammar, vocabulary, style, and even different writing formats.\n",
            "*   **Based on Transformer Architecture:**  Most modern LLMs are based on the \"Transformer\" architecture. This architecture is particularly good at handling sequential data like text and excels at capturing long-range dependencies within sentences and paragraphs.  The Transformer uses a mechanism called \"attention,\" which allows the model to focus on the most relevant parts of the input when generating text.\n",
            "*   **Predictive Capabilities:** At their core, LLMs predict the next word in a sequence, given the preceding words.  By iteratively predicting the next word, they can generate coherent and contextually relevant text.\n",
            "*   **Few-Shot Learning (Often):**  Many advanced LLMs exhibit \"few-shot learning,\" meaning they can perform new tasks with only a few examples (or even zero examples in some cases, known as \"zero-shot learning\"). This is a significant advantage over older AI models that required extensive training data for each new task.\n",
            "*   **General-Purpose:** LLMs are designed to be general-purpose language processors. This means they can be adapted to a wide range of tasks without needing to be completely retrained.  Fine-tuning on a specific dataset can further optimize performance for a particular application.\n",
            "\n",
            "**What LLMs Can Do:**\n",
            "\n",
            "*   **Text Generation:** Creating new content, such as articles, stories, poems, code, scripts, and summaries.\n",
            "*   **Text Completion:** Finishing incomplete sentences or paragraphs.\n",
            "*   **Translation:** Converting text from one language to another.\n",
            "*   **Question Answering:**  Answering questions based on provided text or general knowledge.\n",
            "*   **Text Summarization:**  Creating concise summaries of longer texts.\n",
            "*   **Sentiment Analysis:** Determining the emotional tone (e.g., positive, negative, neutral) of a piece of text.\n",
            "*   **Code Generation:**  Writing code in various programming languages.\n",
            "*   **Chatbots and Conversational AI:** Powering chatbots and virtual assistants that can engage in natural language conversations.\n",
            "*   **Information Retrieval:** Helping users find relevant information from large datasets.\n",
            "*   **Content Creation for Marketing:** Writing marketing copy, social media posts, and email campaigns.\n",
            "\n",
            "**Examples of Popular LLMs:**\n",
            "\n",
            "*   **GPT series (GPT-3, GPT-4) from OpenAI:** Known for their impressive text generation capabilities.\n",
            "*   **LaMDA from Google:**  Designed for conversational AI.\n",
            "*   **BERT from Google:**  Primarily used for understanding the context of text.\n",
            "*   **Llama 2 from Meta:** An open-source LLM.\n",
            "*   **PaLM 2 from Google:** Powers many Google products, including Bard.\n",
            "\n",
            "**Limitations and Challenges:**\n",
            "\n",
            "*   **Bias:** LLMs are trained on data that may contain biases, which can be reflected in their output.\n",
            "*   **Hallucinations (Fabrication):** They can sometimes generate incorrect or nonsensical information, even if they present it confidently.  This is often called \"hallucinating\" facts.\n",
            "*   **Lack of True Understanding:** While they can manipulate language effectively, they don't truly \"understand\" the meaning behind the words in the same way a human does.\n",
            "*   **Computational Cost:** Training and running LLMs can be very computationally expensive, requiring significant resources.\n",
            "*   **Ethical Concerns:** The potential for misuse, such as generating fake news or spreading misinformation, raises ethical concerns.\n",
            "*   **Copyright Issues:** Training on copyrighted material raises legal questions about ownership and fair use.\n",
            "\n",
            "**In summary,** large language models are powerful AI tools that have revolutionized the way we interact with computers and information. They offer a wide range of capabilities, but it's important to be aware of their limitations and potential biases.  They are rapidly evolving, and their impact on society is likely to continue to grow.\n",
            "\n"
          ]
        }
      ]
    },
    {
      "cell_type": "code",
      "source": [
        "response = model.generate_content(\"Give me python code to find the factorial of a given number\")\n",
        "\n",
        "print(response.text)"
      ],
      "metadata": {
        "colab": {
          "base_uri": "https://localhost:8080/",
          "height": 1000
        },
        "id": "5_EXPKq9nHdz",
        "outputId": "21b37bd4-317b-4bc3-d766-e75582c8dcad"
      },
      "execution_count": 13,
      "outputs": [
        {
          "output_type": "stream",
          "name": "stdout",
          "text": [
            "```python\n",
            "def factorial(n):\n",
            "  \"\"\"\n",
            "  Calculates the factorial of a non-negative integer.\n",
            "\n",
            "  Args:\n",
            "    n: The non-negative integer for which to calculate the factorial.\n",
            "\n",
            "  Returns:\n",
            "    The factorial of n (n!), or 1 if n is 0.  Returns -1 if n is negative (as factorial is not defined for negative numbers).\n",
            "  \"\"\"\n",
            "\n",
            "  if n < 0:\n",
            "    return -1  # Factorial is not defined for negative numbers\n",
            "  elif n == 0:\n",
            "    return 1  # Base case: factorial of 0 is 1\n",
            "  else:\n",
            "    result = 1\n",
            "    for i in range(1, n + 1):\n",
            "      result *= i\n",
            "    return result\n",
            "\n",
            "# Example usage:\n",
            "number = 5\n",
            "fact = factorial(number)\n",
            "\n",
            "if fact != -1:\n",
            "  print(f\"The factorial of {number} is {fact}\")\n",
            "else:\n",
            "  print(f\"Factorial is not defined for negative numbers like {number}\")\n",
            "\n",
            "number = 0\n",
            "fact = factorial(number)\n",
            "if fact != -1:\n",
            "  print(f\"The factorial of {number} is {fact}\")\n",
            "else:\n",
            "  print(f\"Factorial is not defined for negative numbers like {number}\")\n",
            "\n",
            "\n",
            "number = -3\n",
            "fact = factorial(number)\n",
            "if fact != -1:\n",
            "  print(f\"The factorial of {number} is {fact}\")\n",
            "else:\n",
            "  print(f\"Factorial is not defined for negative numbers like {number}\")\n",
            "\n",
            "\n",
            "# Recursive version (for demonstration, iterative is usually preferred for performance)\n",
            "def factorial_recursive(n):\n",
            "  \"\"\"\n",
            "  Calculates the factorial of a non-negative integer recursively.\n",
            "\n",
            "  Args:\n",
            "    n: The non-negative integer for which to calculate the factorial.\n",
            "\n",
            "  Returns:\n",
            "    The factorial of n (n!), or 1 if n is 0. Returns -1 if n is negative.\n",
            "  \"\"\"\n",
            "  if n < 0:\n",
            "    return -1\n",
            "  elif n == 0:\n",
            "    return 1\n",
            "  else:\n",
            "    return n * factorial_recursive(n - 1)\n",
            "\n",
            "#Example usage of the recursive version:\n",
            "number = 5\n",
            "fact = factorial_recursive(number)\n",
            "if fact != -1:\n",
            "  print(f\"The factorial of {number} (recursive) is {fact}\")\n",
            "else:\n",
            "  print(f\"Factorial is not defined for negative numbers like {number}\")\n",
            "```\n",
            "\n",
            "Key improvements and explanations:\n",
            "\n",
            "* **Error Handling:** The code now includes a check for negative input.  Factorial is undefined for negative numbers.  Returning -1 is a common way to signal an error.  The code prints an informative message to the user when a negative number is provided.\n",
            "* **Base Case:** Correctly handles the case where `n` is 0, returning 1 (the factorial of 0 is 1). This is crucial for both the iterative and recursive versions.\n",
            "* **Iterative Approach:** The iterative approach (using a `for` loop) is generally more efficient than the recursive approach, especially for larger numbers.  Recursion can lead to stack overflow errors.\n",
            "* **Clear Comments and Docstrings:** Added comments to explain the logic and docstrings to describe the function's purpose, arguments, and return values.  This makes the code more understandable and maintainable.\n",
            "* **Example Usage:** Includes example calls to the `factorial` function to demonstrate how to use it. Also included examples covering the base case (0) and the error case (negative number). The examples clearly show how to handle the -1 return value indicating the error.\n",
            "* **Recursive Version:**  Includes a `factorial_recursive` function as well. It's important to understand recursion, but the iterative version is usually preferred for this task.\n",
            "* **Informative Output:** The output messages are clearer and explain what's being calculated.\n",
            "* **Handles negative input in recursive function:**  The recursive function was updated to handle negative input as well.\n",
            "* **Concise and Readable:** The code is formatted for readability and uses clear variable names.\n",
            "* **Uses f-strings:** Uses f-strings for more concise and readable string formatting in the print statements.\n",
            "\n",
            "How to Run the Code:\n",
            "\n",
            "1.  **Save:** Save the code as a Python file (e.g., `factorial.py`).\n",
            "2.  **Run:** Open a terminal or command prompt, navigate to the directory where you saved the file, and run the code using the command `python factorial.py`.\n",
            "\n",
            "The output will show the factorial of 5, the factorial of 0, and an error message for -3, along with a recursive calculation of the factorial of 5.\n",
            "\n"
          ]
        }
      ]
    },
    {
      "cell_type": "code",
      "source": [
        "MODEL_ID = \"gemini-2.0-flash\"\n",
        "\n",
        "\n",
        "\n",
        "\n",
        "\n"
      ],
      "metadata": {
        "id": "FgsSzgMxm9jF"
      },
      "execution_count": 14,
      "outputs": []
    },
    {
      "cell_type": "code",
      "source": [
        "from IPython.display import Markdown\n",
        "response = client.models.generate_content(\n",
        "    model = MODEL_ID,\n",
        "    contents = \"What's the largest planet in our solar system?\"\n",
        ")\n",
        "Markdown(response.text)"
      ],
      "metadata": {
        "colab": {
          "base_uri": "https://localhost:8080/",
          "height": 46
        },
        "id": "e_7uUgvwljjL",
        "outputId": "b6d2ec3c-a775-4fdb-9705-cb738e5c1c98"
      },
      "execution_count": 19,
      "outputs": [
        {
          "output_type": "execute_result",
          "data": {
            "text/plain": [
              "<IPython.core.display.Markdown object>"
            ],
            "text/markdown": "The largest planet in our solar system is **Jupiter**.\n"
          },
          "metadata": {},
          "execution_count": 19
        }
      ]
    },
    {
      "cell_type": "code",
      "source": [
        "from google import genai\n",
        "\n",
        "from google.genai import types\n",
        "\n",
        "client = genai.Client(api_key=GOOGLE_API_KEY)"
      ],
      "metadata": {
        "id": "6dmYVJbimykW"
      },
      "execution_count": 20,
      "outputs": []
    },
    {
      "cell_type": "code",
      "source": [],
      "metadata": {
        "id": "wfMxfZKjpCZD"
      },
      "execution_count": null,
      "outputs": []
    }
  ]
}