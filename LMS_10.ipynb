{
 "cells": [
  {
   "cell_type": "code",
   "execution_count": 15,
   "id": "f3927a4f-e9c0-4128-9dff-da6cb8c463b1",
   "metadata": {},
   "outputs": [
    {
     "name": "stdout",
     "output_type": "stream",
     "text": [
      "Requirement already satisfied: pyPDF2 in c:\\users\\kesha\\anaconda3\\lib\\site-packages (3.0.1)\n",
      "Requirement already satisfied: typing_extensions>=3.10.0.0 in c:\\users\\kesha\\anaconda3\\lib\\site-packages (from pyPDF2) (4.12.2)\n"
     ]
    }
   ],
   "source": [
    "!pip install pyPDF2"
   ]
  },
  {
   "cell_type": "code",
   "execution_count": 16,
   "id": "5152f987-0fac-4c43-b727-3c6934aed639",
   "metadata": {},
   "outputs": [],
   "source": [
    "import PyPDF2\n",
    "from PyPDF2 import PdfFileReader"
   ]
  },
  {
   "cell_type": "code",
   "execution_count": 12,
   "id": "6ea95ea3-478f-4391-8d17-2b78a5ce7a36",
   "metadata": {},
   "outputs": [
    {
     "name": "stdout",
     "output_type": "stream",
     "text": [
      "Number of pages: 35\n",
      " \n",
      " \n",
      " Development  Plan for Greater Mumbai 2014‐2034                                                                                                                                                                                                                                                      \n",
      "Acknowledgements  \n",
      "The Consultant  wishes to thank the following  individuals  from the Municipal  Corporation  of \n",
      "Greater Mumbai for their invaluable  support, insights and contributions  towards ‘Working  Paper 1 \n",
      "– Preparation  of Base Map’ for the preparation  of the Development  Plan for Greater Mumbai \n",
      "2014‐34. \n",
      " Mr. Subodh Kumar, IAS, Municipal  Commissioner;  \n",
      " Mr. Rajeev Kuknoor, Chief Engineer Development  Plan; \n",
      " Mr. Sudhir Ghate, Deputy Chief Engineer Development  Plan; \n",
      " Mr. A.G. Marathe, Deputy Chief Engineer Development  Plan; \n",
      " Mr. R. Balachandran,  Executive  Engineer and Town Planning Officer, Development  Plan. \n",
      " Our gratitude  to the following  experts for their invaluable  insights and support: \n",
      " \n",
      "Mr. V.K Phatak, Former Chief Town Planner (MMRDA);  \n",
      " Mr. A.N Kale, Former Chief Engineer, (DP); \n",
      " Mr. A. S Jain Former Dy. Chief Engineer, (DP). \n",
      " We wish to especially  thank MCGM officers, Mr. Jagdish Talreja, Mr. Dinesh Naik, Mr. Hiren \n",
      "Daftardar,  Ms. Anita Naik for their continual  support since the\n",
      " beginning  of the project and their \n",
      "help towards familiarization  and data collection.  They have been instrumental  in helping to \n",
      "contact various MCGM departments  as well as in helping to establish contact with personnel  from \n",
      "other government  departments  and organizations.  Many thanks for the MCGM team, for \n",
      "deploying  personnel,  particularly  Mr. Prasad Gharat, on extensive  field visits that have helped in \n",
      "understanding  actual ground conditions.  \n",
      " \n",
      "We apologize  if we have inadvertently  omitted anyone to whom acknowledgement  is due. We hope \n",
      "and anticipate  the work's usefulness  for the intended purpose. \n",
      " \n"
     ]
    }
   ],
   "source": [
    "pdf = open(\"file1pdf.pdf\",\"rb\")\n",
    "pdf_reader = PyPDF2.PdfReader(pdf)\n",
    "print(\"Number of pages:\",len(pdf_reader.pages))\n",
    "page = pdf_reader.pages[1]\n",
    "print(page.extract_text())\n",
    "pdf.close()"
   ]
  },
  {
   "cell_type": "code",
   "execution_count": 19,
   "id": "78a23d8a-237c-4c33-a4a9-e1ccef0e79c5",
   "metadata": {},
   "outputs": [
    {
     "data": {
      "text/plain": [
       "'3.0.1'"
      ]
     },
     "execution_count": 19,
     "metadata": {},
     "output_type": "execute_result"
    }
   ],
   "source": [
    "PyPDF2.__version__"
   ]
  },
  {
   "cell_type": "code",
   "execution_count": 21,
   "id": "6ea71734-c4ba-4003-be1a-8da2711c34ec",
   "metadata": {},
   "outputs": [
    {
     "name": "stdout",
     "output_type": "stream",
     "text": [
      "Collecting nltk\n",
      "  Using cached nltk-3.9.1-py3-none-any.whl.metadata (2.9 kB)\n",
      "Requirement already satisfied: click in c:\\users\\kesha\\anaconda3\\lib\\site-packages (from nltk) (8.1.7)\n",
      "Requirement already satisfied: joblib in c:\\users\\kesha\\anaconda3\\lib\\site-packages (from nltk) (1.4.2)\n",
      "Collecting regex>=2021.8.3 (from nltk)\n",
      "  Downloading regex-2024.11.6-cp39-cp39-win_amd64.whl.metadata (41 kB)\n",
      "Requirement already satisfied: tqdm in c:\\users\\kesha\\anaconda3\\lib\\site-packages (from nltk) (4.66.5)\n",
      "Requirement already satisfied: colorama in c:\\users\\kesha\\anaconda3\\lib\\site-packages (from click->nltk) (0.4.6)\n",
      "Downloading nltk-3.9.1-py3-none-any.whl (1.5 MB)\n",
      "   ---------------------------------------- 0.0/1.5 MB ? eta -:--:--\n",
      "   ---------------------------------------- 0.0/1.5 MB ? eta -:--:--\n",
      "   ---------------------------------------- 0.0/1.5 MB ? eta -:--:--\n",
      "   ---------------------------------------- 0.0/1.5 MB ? eta -:--:--\n",
      "   ---------------------------------------- 0.0/1.5 MB ? eta -:--:--\n",
      "   ------ --------------------------------- 0.3/1.5 MB ? eta -:--:--\n",
      "   ------ --------------------------------- 0.3/1.5 MB ? eta -:--:--\n",
      "   ------ --------------------------------- 0.3/1.5 MB ? eta -:--:--\n",
      "   ------------- -------------------------- 0.5/1.5 MB 372.4 kB/s eta 0:00:03\n",
      "   ------------- -------------------------- 0.5/1.5 MB 372.4 kB/s eta 0:00:03\n",
      "   ------------- -------------------------- 0.5/1.5 MB 372.4 kB/s eta 0:00:03\n",
      "   ------------- -------------------------- 0.5/1.5 MB 372.4 kB/s eta 0:00:03\n",
      "   -------------------- ------------------- 0.8/1.5 MB 364.6 kB/s eta 0:00:02\n",
      "   -------------------- ------------------- 0.8/1.5 MB 364.6 kB/s eta 0:00:02\n",
      "   -------------------- ------------------- 0.8/1.5 MB 364.6 kB/s eta 0:00:02\n",
      "   --------------------------- ------------ 1.0/1.5 MB 359.4 kB/s eta 0:00:02\n",
      "   --------------------------- ------------ 1.0/1.5 MB 359.4 kB/s eta 0:00:02\n",
      "   ---------------------------------- ----- 1.3/1.5 MB 397.0 kB/s eta 0:00:01\n",
      "   ---------------------------------------- 1.5/1.5 MB 434.7 kB/s eta 0:00:00\n",
      "Downloading regex-2024.11.6-cp39-cp39-win_amd64.whl (274 kB)\n",
      "Installing collected packages: regex, nltk\n",
      "Successfully installed nltk-3.9.1 regex-2024.11.6\n"
     ]
    }
   ],
   "source": [
    "!pip install nltk"
   ]
  },
  {
   "cell_type": "code",
   "execution_count": 22,
   "id": "ff7ab857-702b-43ed-901e-2683ae6acc78",
   "metadata": {},
   "outputs": [],
   "source": [
    "import PyPDF2, urllib, nltk\n",
    "from io import BytesIO\n",
    "from nltk.tokenize import word_tokenize\n",
    "from nltk.corpus import stopwords"
   ]
  },
  {
   "cell_type": "code",
   "execution_count": 24,
   "id": "5a438ad5-8610-4bd3-966a-77fa74bfa190",
   "metadata": {},
   "outputs": [],
   "source": [
    "wFile = urllib.request.urlopen('https://www.udri.org/pdf/02%20working%20paper%201.pdf')\n",
    "pdfreader = PyPDF2.PdfReader(BytesIO(wFile.read()))"
   ]
  },
  {
   "cell_type": "code",
   "execution_count": 27,
   "id": "bd448f5f-8798-4b74-ab67-1beb17669b6c",
   "metadata": {},
   "outputs": [
    {
     "name": "stderr",
     "output_type": "stream",
     "text": [
      "[nltk_data] Downloading package punkt_tab to\n",
      "[nltk_data]     C:\\Users\\kesha\\AppData\\Roaming\\nltk_data...\n",
      "[nltk_data]   Unzipping tokenizers\\punkt_tab.zip.\n"
     ]
    },
    {
     "data": {
      "text/plain": [
       "True"
      ]
     },
     "execution_count": 27,
     "metadata": {},
     "output_type": "execute_result"
    }
   ],
   "source": [
    "import nltk\n",
    "nltk.download('punkt_tab')"
   ]
  },
  {
   "cell_type": "code",
   "execution_count": 28,
   "id": "0726264e-a1ce-45d2-958d-e6c1793db1b3",
   "metadata": {},
   "outputs": [],
   "source": [
    "pageObj = pdfreader.pages[2]\n",
    "page2 = pageObj.extract_text()\n",
    "punctuations = ['(',')',';',':','[',']',',','...','.']\n",
    "tokens = word_tokenize(page2)\n",
    "stop_words = stopwords.words('english')\n",
    "keywords = [word for word in tokens if not word in stop_words and not word in punctuations]\n"
   ]
  },
  {
   "cell_type": "code",
   "execution_count": 29,
   "id": "24f17c37-7ec2-48cf-b9b6-dd17a6c83705",
   "metadata": {},
   "outputs": [
    {
     "data": {
      "text/plain": [
       "['Development',\n",
       " 'Plan',\n",
       " 'Greater',\n",
       " 'Mumbai',\n",
       " '2014‐2034',\n",
       " 'Table',\n",
       " 'Contents',\n",
       " 'The',\n",
       " 'Consultant',\n",
       " 'wishes',\n",
       " 'thank',\n",
       " 'following',\n",
       " 'individuals',\n",
       " 'Municipal',\n",
       " 'Corporation',\n",
       " 'Greater',\n",
       " 'Mumbai',\n",
       " 'invaluable',\n",
       " 'support',\n",
       " 'insights',\n",
       " 'contributions',\n",
       " 'towards',\n",
       " '‘',\n",
       " 'Working',\n",
       " 'Paper',\n",
       " '1',\n",
       " '–',\n",
       " 'Preparation',\n",
       " 'Base',\n",
       " 'Map',\n",
       " '’',\n",
       " 'preparation',\n",
       " 'Development',\n",
       " 'Plan',\n",
       " 'Greater',\n",
       " 'Mumbai',\n",
       " '2014‐34',\n",
       " '.............................................................................................................................',\n",
       " '..............',\n",
       " '3',\n",
       " 'Our',\n",
       " 'gratitude',\n",
       " 'following',\n",
       " 'experts',\n",
       " 'invaluable',\n",
       " 'insights',\n",
       " 'support',\n",
       " '............................',\n",
       " '3',\n",
       " 'We',\n",
       " 'wish',\n",
       " 'especially',\n",
       " 'thank',\n",
       " 'MCGM',\n",
       " 'officers',\n",
       " 'Mr.',\n",
       " 'Jagdish',\n",
       " 'Talreja',\n",
       " 'Mr.',\n",
       " 'Dinesh',\n",
       " 'Naik',\n",
       " 'Mr.',\n",
       " 'Hiren',\n",
       " 'Daftardar',\n",
       " 'Ms.',\n",
       " 'Anita',\n",
       " 'Naik',\n",
       " 'continual',\n",
       " 'support',\n",
       " 'since',\n",
       " 'beginning',\n",
       " 'project',\n",
       " 'help',\n",
       " 'towards',\n",
       " 'familiarization',\n",
       " 'data',\n",
       " 'collection',\n",
       " 'They',\n",
       " 'instrumental',\n",
       " 'helping',\n",
       " 'contact',\n",
       " 'various',\n",
       " 'MCGM',\n",
       " 'departments',\n",
       " 'well',\n",
       " 'helping',\n",
       " 'establish',\n",
       " 'contact',\n",
       " 'personnel',\n",
       " 'government',\n",
       " 'departments',\n",
       " 'organizations',\n",
       " 'Many',\n",
       " 'thanks',\n",
       " 'MCGM',\n",
       " 'team',\n",
       " 'deploying',\n",
       " 'personnel',\n",
       " 'particularly',\n",
       " 'Mr.',\n",
       " 'Prasad',\n",
       " 'Gharat',\n",
       " 'extensive',\n",
       " 'field',\n",
       " 'visits',\n",
       " 'helped',\n",
       " 'understanding',\n",
       " 'actual',\n",
       " 'ground',\n",
       " 'conditions',\n",
       " '........................................................................................',\n",
       " '3',\n",
       " 'BEST',\n",
       " '...............................................................................................................................',\n",
       " '.................',\n",
       " '5',\n",
       " 'Brihanmumbai',\n",
       " 'Electric',\n",
       " 'Supply',\n",
       " 'Transport',\n",
       " 'Undertaking',\n",
       " '..............................................................',\n",
       " '5',\n",
       " 'CIDCO',\n",
       " '...............................................................................................................................',\n",
       " '..............',\n",
       " '5',\n",
       " 'City',\n",
       " 'Industrial',\n",
       " 'Development',\n",
       " 'Corporation',\n",
       " '...............................................................................',\n",
       " '5',\n",
       " 'CTP',\n",
       " '...............................................................................................................................',\n",
       " '..................',\n",
       " '5',\n",
       " 'Comprehensive',\n",
       " 'Transportation',\n",
       " 'Plan',\n",
       " '...............................................................................................',\n",
       " '5',\n",
       " 'DP',\n",
       " '...............................................................................................................................',\n",
       " '....................',\n",
       " '5',\n",
       " 'Development',\n",
       " 'Plan',\n",
       " '..........................................................................................................................',\n",
       " '5',\n",
       " 'DPGM34',\n",
       " '...............................................................................................................................',\n",
       " '..........',\n",
       " '5',\n",
       " 'Development',\n",
       " 'Plan',\n",
       " 'Greater',\n",
       " 'Mumbai',\n",
       " '2034',\n",
       " '.......................................................................................',\n",
       " '5',\n",
       " 'DCR',\n",
       " '...............................................................................................................................',\n",
       " '..................',\n",
       " '5',\n",
       " 'Development',\n",
       " 'Control',\n",
       " 'Regulations',\n",
       " '...................................................................................................',\n",
       " '5',\n",
       " 'DGPS',\n",
       " '...........................................................................................................................',\n",
       " '....................',\n",
       " '5',\n",
       " 'Digital',\n",
       " 'Global',\n",
       " 'Positioning',\n",
       " 'System',\n",
       " '...................................................................................................',\n",
       " '5',\n",
       " 'DPGM',\n",
       " '...............................................................................................................................',\n",
       " '..............',\n",
       " '5',\n",
       " 'Development',\n",
       " 'Plan',\n",
       " 'Greater',\n",
       " 'Mumbai',\n",
       " '...........................................................................................',\n",
       " '5',\n",
       " 'ELU',\n",
       " '...............................................................................................................................',\n",
       " '..................',\n",
       " '5',\n",
       " 'Existing',\n",
       " 'Land',\n",
       " 'use',\n",
       " '.............................................................................................................................',\n",
       " '5',\n",
       " 'FSI',\n",
       " '...............................................................................................................................',\n",
       " '....................',\n",
       " '5',\n",
       " 'Floor',\n",
       " 'Space',\n",
       " 'Index',\n",
       " '............................................................................................................................',\n",
       " '5',\n",
       " 'GIS',\n",
       " '...............................................................................................................................',\n",
       " '...................',\n",
       " '5']"
      ]
     },
     "execution_count": 29,
     "metadata": {},
     "output_type": "execute_result"
    }
   ],
   "source": [
    "keywords"
   ]
  },
  {
   "cell_type": "code",
   "execution_count": 31,
   "id": "d864abff-e85f-4c5c-afb2-d503b760776f",
   "metadata": {},
   "outputs": [
    {
     "name": "stdout",
     "output_type": "stream",
     "text": [
      "[]\n"
     ]
    }
   ],
   "source": [
    "name_list = list()\n",
    "check = {'Mr.','Mrs.','Ms.'}\n",
    "for idx, token in enumerate(tokens):\n",
    "    if token.startswith(tuple(check)) and idx<(len(token)-1):\n",
    "        name = token + token[idx+1] + ' '+ token[idx+2]\n",
    "        name_list.append(name)\n",
    "print(name_list)"
   ]
  },
  {
   "cell_type": "code",
   "execution_count": 32,
   "id": "9d5a64f0-14e6-42b8-9a29-004f75d9f35b",
   "metadata": {},
   "outputs": [
    {
     "name": "stdout",
     "output_type": "stream",
     "text": [
      "Collecting python-docx\n",
      "  Downloading python_docx-1.1.2-py3-none-any.whl.metadata (2.0 kB)\n",
      "Collecting lxml>=3.1.0 (from python-docx)\n",
      "  Downloading lxml-5.3.0-cp39-cp39-win_amd64.whl.metadata (3.9 kB)\n",
      "Requirement already satisfied: typing-extensions>=4.9.0 in c:\\users\\kesha\\anaconda3\\lib\\site-packages (from python-docx) (4.12.2)\n",
      "Downloading python_docx-1.1.2-py3-none-any.whl (244 kB)\n",
      "Downloading lxml-5.3.0-cp39-cp39-win_amd64.whl (3.8 MB)\n",
      "   ---------------------------------------- 0.0/3.8 MB ? eta -:--:--\n",
      "   ---------------------------------------- 0.0/3.8 MB ? eta -:--:--\n",
      "   ---------------------------------------- 0.0/3.8 MB ? eta -:--:--\n",
      "   ---------------------------------------- 0.0/3.8 MB ? eta -:--:--\n",
      "   ---------------------------------------- 0.0/3.8 MB ? eta -:--:--\n",
      "   ---------------------------------------- 0.0/3.8 MB ? eta -:--:--\n",
      "   -- ------------------------------------- 0.3/3.8 MB ? eta -:--:--\n",
      "   -- ------------------------------------- 0.3/3.8 MB ? eta -:--:--\n",
      "   -- ------------------------------------- 0.3/3.8 MB ? eta -:--:--\n",
      "   -- ------------------------------------- 0.3/3.8 MB ? eta -:--:--\n",
      "   ----- ---------------------------------- 0.5/3.8 MB 381.6 kB/s eta 0:00:09\n",
      "   ----- ---------------------------------- 0.5/3.8 MB 381.6 kB/s eta 0:00:09\n",
      "   ----- ---------------------------------- 0.5/3.8 MB 381.6 kB/s eta 0:00:09\n",
      "   ----- ---------------------------------- 0.5/3.8 MB 381.6 kB/s eta 0:00:09\n",
      "   ----- ---------------------------------- 0.5/3.8 MB 381.6 kB/s eta 0:00:09\n",
      "   -------- ------------------------------- 0.8/3.8 MB 282.0 kB/s eta 0:00:11\n",
      "   -------- ------------------------------- 0.8/3.8 MB 282.0 kB/s eta 0:00:11\n",
      "   -------- ------------------------------- 0.8/3.8 MB 282.0 kB/s eta 0:00:11\n",
      "   -------- ------------------------------- 0.8/3.8 MB 282.0 kB/s eta 0:00:11\n",
      "   ----------- ---------------------------- 1.0/3.8 MB 281.2 kB/s eta 0:00:10\n",
      "   ----------- ---------------------------- 1.0/3.8 MB 281.2 kB/s eta 0:00:10\n",
      "   ------------- -------------------------- 1.3/3.8 MB 340.7 kB/s eta 0:00:08\n",
      "   ------------- -------------------------- 1.3/3.8 MB 340.7 kB/s eta 0:00:08\n",
      "   ---------------- ----------------------- 1.6/3.8 MB 369.5 kB/s eta 0:00:07\n",
      "   ---------------- ----------------------- 1.6/3.8 MB 369.5 kB/s eta 0:00:07\n",
      "   ---------------- ----------------------- 1.6/3.8 MB 369.5 kB/s eta 0:00:07\n",
      "   ---------------- ----------------------- 1.6/3.8 MB 369.5 kB/s eta 0:00:07\n",
      "   ------------------- -------------------- 1.8/3.8 MB 350.8 kB/s eta 0:00:06\n",
      "   ---------------------- ----------------- 2.1/3.8 MB 386.3 kB/s eta 0:00:05\n",
      "   ---------------------- ----------------- 2.1/3.8 MB 386.3 kB/s eta 0:00:05\n",
      "   --------------------------- ------------ 2.6/3.8 MB 450.8 kB/s eta 0:00:03\n",
      "   ------------------------------ --------- 2.9/3.8 MB 484.9 kB/s eta 0:00:02\n",
      "   ------------------------------ --------- 2.9/3.8 MB 484.9 kB/s eta 0:00:02\n",
      "   --------------------------------- ------ 3.1/3.8 MB 497.4 kB/s eta 0:00:02\n",
      "   ----------------------------------- ---- 3.4/3.8 MB 513.6 kB/s eta 0:00:01\n",
      "   -------------------------------------- - 3.7/3.8 MB 545.3 kB/s eta 0:00:01\n",
      "   ---------------------------------------- 3.8/3.8 MB 551.8 kB/s eta 0:00:00\n",
      "Installing collected packages: lxml, python-docx\n",
      "Successfully installed lxml-5.3.0 python-docx-1.1.2\n"
     ]
    }
   ],
   "source": [
    "!pip install python-docx"
   ]
  },
  {
   "cell_type": "code",
   "execution_count": 33,
   "id": "7cdeb32e-a7ff-4303-abb7-32bf0a3d4b70",
   "metadata": {},
   "outputs": [],
   "source": [
    "import docx"
   ]
  },
  {
   "cell_type": "code",
   "execution_count": 38,
   "id": "b2ca0f39-42e2-4671-af36-c1b973225591",
   "metadata": {},
   "outputs": [],
   "source": [
    "doc = open('DD is the India.docx','rb')\n",
    "document = docx.Document(doc)"
   ]
  },
  {
   "cell_type": "code",
   "execution_count": 39,
   "id": "89a6ea5c-b6ad-48a8-8f79-7c7fdd3bb5cf",
   "metadata": {},
   "outputs": [
    {
     "name": "stdout",
     "output_type": "stream",
     "text": [
      "DD is the India’s premier public service broadcaster with more than 1,000 transmitters covering  90% of the country’s population across an estimated 70 million homes. It has more than 20,000  employees managing itsmetro and regional channels. Recent years have seen growing competition from many private channels numbering more than 65, and the cable and satellite operators (C & S). The C & S network reaches nearly 30million homes and is growing at a very fast rate DD’s business model is based on selling half -hour slots of commercial time to the programme producers and charging them a minimum guarantee. For instance, the present tariff for the first 20 episodes of a programme isRs. 30 lakhs plus the cost of production of the programme. In exchange the producers get 780 seconds ofcommercial time that he can sell to advertisers and can generate revenue. Break-even point for producers, at thepresent rates, thus is Rs. 75,000 for a 10 second advertising spot. Beyond 20 episodes, the minimum guarantee isRs. 65 lakhs for which the producer has to charge Rs. 1,15,000 for a 10 second spot in order to break-even. It is atthis point the advertisers face a problem  the competitive rates for a 10 second spot is Rs. 50,000. Producers are possessive about buying commercial time on DD. As a result the DD’s projected growth of revenue is only 6-10%as against 50-60% for the private sector channels. Software suppliers, advertisers and audiences are deserting DD’s immense potential and emerge as a formidable player in mass media.Questions1.What is the best in your view, for DD?2.Analyse the SWOT factors of DD3.Why do you think that the proposed alternative as best?\n"
     ]
    }
   ],
   "source": [
    "docu = ''\n",
    "for para in document.paragraphs:\n",
    "    docu+=para.text\n",
    "print(docu)"
   ]
  },
  {
   "cell_type": "code",
   "execution_count": 41,
   "id": "90f6b6dc-005b-4c8d-94eb-3692958abad2",
   "metadata": {},
   "outputs": [
    {
     "name": "stdout",
     "output_type": "stream",
     "text": [
      "The content at of the paragraph0is:DD is the India’s premier public service broadcaster with more than 1,000 transmitters covering  90% of the country’s population across an estimated 70 million homes. It has more than 20,000  employees managing itsmetro and regional channels. Recent years have seen growing competition from many private channels numbering more than 65, and the cable and satellite operators (C & S). The C & S network reaches nearly 30million homes and is growing at a very fast rate DD’s business model is based on selling half -hour slots of commercial time to the programme producers and charging them a minimum guarantee. For instance, the present tariff for the first 20 episodes of a programme isRs. 30 lakhs plus the cost of production of the programme. In exchange the producers get 780 seconds ofcommercial time that he can sell to advertisers and can generate revenue. Break-even point for producers, at thepresent rates, thus is Rs. 75,000 for a 10 second advertising spot. Beyond 20 episodes, the minimum guarantee isRs. 65 lakhs for which the producer has to charge Rs. 1,15,000 for a 10 second spot in order to break-even. It is atthis point the advertisers face a problem  the competitive rates for a 10 second spot is Rs. 50,000. Producers are possessive about buying commercial time on DD. As a result the DD’s\n",
      "\n",
      "The content at of the paragraph1is: projected growth of revenue is only 6-10%as against 50-60% for the private sector channels. Software suppliers, advertisers and audiences are deserting DD’s immense potential and emerge as a formidable player in mass media.\n",
      "\n",
      "The content at of the paragraph2is:Questions\n",
      "\n",
      "The content at of the paragraph3is:1.What is the best in your view, for DD?\n",
      "\n",
      "The content at of the paragraph4is:2.Analyse the SWOT factors of DD\n",
      "\n",
      "The content at of the paragraph5is:3.Why do you think that the proposed alternative as best?\n",
      "\n",
      "The content at of the paragraph6is:\n",
      "\n",
      "The content at of the paragraph7is:\n",
      "\n"
     ]
    }
   ],
   "source": [
    "for i in range(len(document.paragraphs)):\n",
    "    print(\"The content at of the paragraph\"+str(i)+\"is:\"+document.paragraphs[i].text+\"\\n\")"
   ]
  },
  {
   "cell_type": "code",
   "execution_count": 42,
   "id": "270bf937-ca86-4ec5-bb6f-3fb429b7b86d",
   "metadata": {},
   "outputs": [
    {
     "name": "stdout",
     "output_type": "stream",
     "text": [
      "Collecting bs4\n",
      "  Downloading bs4-0.0.2-py2.py3-none-any.whl.metadata (411 bytes)\n",
      "Requirement already satisfied: beautifulsoup4 in c:\\users\\kesha\\anaconda3\\lib\\site-packages (from bs4) (4.12.3)\n",
      "Requirement already satisfied: soupsieve>1.2 in c:\\users\\kesha\\anaconda3\\lib\\site-packages (from beautifulsoup4->bs4) (2.5)\n",
      "Downloading bs4-0.0.2-py2.py3-none-any.whl (1.2 kB)\n",
      "Installing collected packages: bs4\n",
      "Successfully installed bs4-0.0.2\n"
     ]
    }
   ],
   "source": [
    "!pip install bs4"
   ]
  },
  {
   "cell_type": "code",
   "execution_count": 43,
   "id": "e724a3f9-676b-48d9-9ab1-6159c58ca7b7",
   "metadata": {},
   "outputs": [
    {
     "ename": "ImportError",
     "evalue": "cannot import name 'Beautifulsoup' from 'bs4' (C:\\Users\\kesha\\anaconda3\\lib\\site-packages\\bs4\\__init__.py)",
     "output_type": "error",
     "traceback": [
      "\u001b[1;31m---------------------------------------------------------------------------\u001b[0m",
      "\u001b[1;31mImportError\u001b[0m                               Traceback (most recent call last)",
      "Cell \u001b[1;32mIn[43], line 2\u001b[0m\n\u001b[0;32m      1\u001b[0m \u001b[38;5;28;01mimport\u001b[39;00m \u001b[38;5;21;01murllib\u001b[39;00m\u001b[38;5;21;01m.\u001b[39;00m\u001b[38;5;21;01mrequest\u001b[39;00m \u001b[38;5;28;01mas\u001b[39;00m \u001b[38;5;21;01murllib2\u001b[39;00m\n\u001b[1;32m----> 2\u001b[0m \u001b[38;5;28;01mfrom\u001b[39;00m \u001b[38;5;21;01mbs4\u001b[39;00m \u001b[38;5;28;01mimport\u001b[39;00m Beautifulsoup\n",
      "\u001b[1;31mImportError\u001b[0m: cannot import name 'Beautifulsoup' from 'bs4' (C:\\Users\\kesha\\anaconda3\\lib\\site-packages\\bs4\\__init__.py)"
     ]
    }
   ],
   "source": [
    "import urllib.request as urllib2\n",
    "from bs4 import Beautifulsoup"
   ]
  },
  {
   "cell_type": "code",
   "execution_count": null,
   "id": "daed20ca-72a2-42b3-8043-aae57ee482eb",
   "metadata": {},
   "outputs": [],
   "source": [
    "response = urllib2.urlopen('')"
   ]
  }
 ],
 "metadata": {
  "kernelspec": {
   "display_name": "Python 3 (ipykernel)",
   "language": "python",
   "name": "python3"
  },
  "language_info": {
   "codemirror_mode": {
    "name": "ipython",
    "version": 3
   },
   "file_extension": ".py",
   "mimetype": "text/x-python",
   "name": "python",
   "nbconvert_exporter": "python",
   "pygments_lexer": "ipython3",
   "version": "3.9.21"
  }
 },
 "nbformat": 4,
 "nbformat_minor": 5
}
