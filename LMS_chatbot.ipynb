{
  "nbformat": 4,
  "nbformat_minor": 0,
  "metadata": {
    "colab": {
      "provenance": [],
      "authorship_tag": "ABX9TyN59mheyRxm5pM7q+H0aUXd",
      "include_colab_link": true
    },
    "kernelspec": {
      "name": "python3",
      "display_name": "Python 3"
    },
    "language_info": {
      "name": "python"
    }
  },
  "cells": [
    {
      "cell_type": "markdown",
      "metadata": {
        "id": "view-in-github",
        "colab_type": "text"
      },
      "source": [
        "<a href=\"https://colab.research.google.com/github/keshav-reddy-27/program/blob/main/LMS_chatbot.ipynb\" target=\"_parent\"><img src=\"https://colab.research.google.com/assets/colab-badge.svg\" alt=\"Open In Colab\"/></a>"
      ]
    },
    {
      "cell_type": "code",
      "execution_count": null,
      "metadata": {
        "id": "Wd7VHpXslDgI"
      },
      "outputs": [],
      "source": [
        "import os\n",
        "import atexit\n",
        "import shutil\n",
        "from transformers import BlenderbotTokenizer, BlenderbotForConditionalGeneration\n",
        "\n",
        "\n",
        "model_name = \"facebook/blenderbot-1B-distill\"\n",
        "\n",
        "tokenizer = BlenderbotTokenizer.from_pretrained(model_name)\n",
        "\n",
        "model = BlenderbotForConditionalGeneration.from_pretrained(model_name)"
      ]
    },
    {
      "cell_type": "code",
      "source": [
        "def interact_with_chatbot(user_input, conversation_history):\n",
        "  conversation_history.append(\"User: {user_input}\")\n",
        "  conversation_text = \" \".join(conversation_history[-5:])\n",
        "  inputs = tokenizer(conversation_text, return_tensors=\"pt\",truncation = True)\n",
        "  response_ids = model.generate(**inputs, max_length=1000, pad_token_id=tokenizer.eos_token_id)\n",
        "  response_text = tokenizer.decode(response_ids[0], skip_special_tokens=True)\n",
        "  conversation_history.append(f\"Chatbot: {response_text}\")\n",
        "  return response_text"
      ],
      "metadata": {
        "id": "izC7teh-l9k3"
      },
      "execution_count": null,
      "outputs": []
    },
    {
      "cell_type": "code",
      "source": [
        "def delete_model_files():\n",
        "\n",
        "    cache_dir = os.path.expanduser(\"~/.cache/huggingface/hub/models--facebook--blenderbot-1B-distill\")\n",
        "\n",
        "    if os.path.exists(cache_dir):\n",
        "\n",
        "        user_input = input(\"Do you want to delete the model files from the cache directory? (y/n): \")\n",
        "\n",
        "        if user_input.lower() == 'y':\n",
        "\n",
        "            shutil.rmtree(cache_dir)\n",
        "\n",
        "            print(f\"Deleted model files from cache directory: {cache_dir}\")\n",
        "\n",
        "        else:\n",
        "\n",
        "            print(\"Model files not deleted from cache directory.\")\n",
        "\n",
        "    else:\n",
        "\n",
        "        print(f\"Model files not found in cache directory: {cache_dir}\")"
      ],
      "metadata": {
        "id": "re7aF7d9mA3h"
      },
      "execution_count": null,
      "outputs": []
    },
    {
      "cell_type": "code",
      "source": [
        "atexit.register(delete_model_files)\n",
        "print(\"Welcome to the Indian Tourism Chatbot!\")\n",
        "print(\"Type 'quit' to end the conversation.\\n\")\n",
        "conversation_history = []\n",
        "while True:\n",
        "  user_input = input(\"User: \")\n",
        "  if user_input.lower() == 'quit':\n",
        "    print(\"Thank you for using the Indian Tourism Chatbot. GoodBye!\")\n",
        "    break\n",
        "  response_text = interact_with_chatbot(user_input, conversation_history)\n",
        "  print(f\"Chatbot: {response_text}\")"
      ],
      "metadata": {
        "colab": {
          "base_uri": "https://localhost:8080/"
        },
        "id": "zi1eLrT4ns2y",
        "outputId": "e3c4486b-5114-477f-ba54-55f1b9abc11c"
      },
      "execution_count": null,
      "outputs": [
        {
          "metadata": {
            "tags": null
          },
          "name": "stdout",
          "output_type": "stream",
          "text": [
            "Welcome to the Indian Tourism Chatbot!\n",
            "Type 'quit' to end the conversation.\n",
            "\n"
          ]
        },
        {
          "metadata": {
            "tags": null
          },
          "name": "stderr",
          "output_type": "stream",
          "text": [
            "Keyword arguments {'truncate': True} not recognized.\n"
          ]
        },
        {
          "metadata": {
            "tags": null
          },
          "name": "stdout",
          "output_type": "stream",
          "text": [
            "Chatbot:  Hi, how are you today? I'm doing well, thanks for asking. I just got home from work.\n"
          ]
        },
        {
          "metadata": {
            "tags": null
          },
          "name": "stderr",
          "output_type": "stream",
          "text": [
            "Keyword arguments {'truncate': True} not recognized.\n"
          ]
        },
        {
          "name": "stdout",
          "output_type": "stream",
          "text": [
            "Chatbot:  I'm good. Just got back from work as well. What do you do for a living?\n",
            "User: suggest 5 places in hyderavbad\n"
          ]
        },
        {
          "output_type": "stream",
          "name": "stderr",
          "text": [
            "Keyword arguments {'truncate': True} not recognized.\n"
          ]
        },
        {
          "output_type": "stream",
          "name": "stdout",
          "text": [
            "Chatbot:  I'm a computer programmer. What about you? Do you have any hobbies? \n"
          ]
        }
      ]
    },
    {
      "cell_type": "code",
      "source": [
        "import nltk\n",
        "\n",
        "import re\n",
        "\n",
        "from nltk.chat.util import Chat, reflections"
      ],
      "metadata": {
        "id": "Mg1c76T7whiu"
      },
      "execution_count": null,
      "outputs": []
    },
    {
      "cell_type": "code",
      "source": [
        "nltk.download('punkt')\n",
        "\n",
        "nltk.download('averaged_perceptron_tagger')"
      ],
      "metadata": {
        "id": "FvTSJk8iwiWV"
      },
      "execution_count": null,
      "outputs": []
    },
    {
      "cell_type": "code",
      "source": [
        "pairs = [\n",
        "\n",
        "    [r\"my name is (.*)\", [\"Hello %1, how can I assist you today?\",]],\n",
        "\n",
        "    [r\"hi|hey|hello\", [\"Hello, how can I help you?\", \"Hey there! What can I do for you?\",\n",
        "\n",
        "                       \"Hi! How can I assist you today?\"]],\n",
        "\n",
        "    [r\"what is your name?\", [\"I am a chatbot created to assist you. You can call me Chatbot.\",]],\n",
        "\n",
        "    [r\"how are you?\", [\"I'm a bot, so I don't have feelings, but I'm here to help you!\",]],\n",
        "\n",
        "    [r\"can you help me with (.*)\", [\"Sure, I can help you with %1. Please provide more details.\",]],\n",
        "\n",
        "    [r\"sorry (.*)\", [\"It's okay. How can I assist you?\",]],\n",
        "\n",
        "    [r\"thank you|thanks\", [\"You're welcome!\", \"No problem!\", \"Happy to help!\"]],\n",
        "\n",
        "    [r\"quit\", [\"Bye! Have a great day!\", \"Goodbye!\"]],\n",
        "\n",
        "    [r\"(.*)\", [\"I'm sorry, I don't understand that. Can you rephrase?\",\n",
        "\n",
        "               \"Could you please elaborate on that?\"]]\n",
        "\n",
        "]"
      ],
      "metadata": {
        "id": "dscHh3lfwlOc"
      },
      "execution_count": null,
      "outputs": []
    },
    {
      "cell_type": "code",
      "source": [],
      "metadata": {
        "id": "O7hqiNrmwpQf"
      },
      "execution_count": null,
      "outputs": []
    }
  ]
}